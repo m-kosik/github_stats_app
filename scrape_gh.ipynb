{
 "cells": [
  {
   "cell_type": "code",
   "execution_count": 3,
   "metadata": {},
   "outputs": [],
   "source": [
    "import requests\n",
    "from bs4 import BeautifulSoup\n",
    "import html5lib\n",
    "import urllib.request, json"
   ]
  },
  {
   "cell_type": "code",
   "execution_count": 4,
   "metadata": {},
   "outputs": [],
   "source": [
    "def find_repositories_and_stars(soup):\n",
    "    \n",
    "    repository_list = []\n",
    "    number_of_stars = {}\n",
    "    \n",
    "    for repo in soup.find_all(class_='wb-break-all'):\n",
    "        repository_list.append(repo.find('a')['href'])\n",
    "        repo_name = repo.find('a').text.strip(' \\n')\n",
    "        number_of_stars[repo_name] = None\n",
    "\n",
    "    total_stars = 0\n",
    "    for element in soup.find_all('svg', {'aria-label': 'star'}):\n",
    "        repo_name = element.parent['href'].split('/')[-2]\n",
    "        stars = int(element.parent.text.strip('\\n '))\n",
    "        number_of_stars[repo_name] = stars\n",
    "        total_stars += stars\n",
    "\n",
    "    for k,v in number_of_stars.items():\n",
    "        print(f'{k} : {v}')\n",
    "\n",
    "    return repository_list, number_of_stars, total_stars\n",
    "\n",
    "\n",
    "def list_languages(repository_list):  \n",
    "\n",
    "    is_limit = False\n",
    "    total_language_use_in_bytes = {}\n",
    "\n",
    "    for repo in repository_list:\n",
    "        try:\n",
    "            with urllib.request.urlopen('https://api.github.com/repos' + repo) as url:\n",
    "                data = json.loads(url.read().decode())\n",
    "                repo_size = float(data['size'])\n",
    "        except urllib.error.HTTPError as exception:\n",
    "            is_limit = True\n",
    "            repo_size = 1000\n",
    "            print(exception)\n",
    "            print('Languages found in all repositories will be printed alphabetically.')\n",
    "\n",
    "        temp_repo = requests.get('https://github.com/' + repo) \n",
    "        soup = BeautifulSoup(temp_repo.content,'html5lib')\n",
    "        try:\n",
    "            languages_in_percent = find_used_languages_by_percent(soup)\n",
    "        except AttributeError:\n",
    "            print('There are no languages specified for this repository.')\n",
    "        print(languages_in_percent)\n",
    "        \n",
    "        languages_in_bytes = {k: v*repo_size for k, v in languages_in_percent.items()}\n",
    "        print(languages_in_bytes)\n",
    "\n",
    "        for language, size in languages_in_bytes.items():\n",
    "            try:\n",
    "                total_language_use_in_bytes[language] += size\n",
    "            except KeyError:\n",
    "                total_language_use_in_bytes[language] = size\n",
    "    if is_limit:\n",
    "        print('alphabetical order')\n",
    "    else:\n",
    "        print(total_language_use_in_bytes)\n",
    "    \n",
    "\n",
    "def find_used_languages_by_percent(soup):\n",
    "    languages_dict = {}\n",
    "\n",
    "    header = soup.find(lambda elm: elm.name == \"h2\" and \"Languages\" in elm.text)\n",
    "    child = header.find_next_siblings()[0].find('span')\n",
    "    for element in child.find_all('span'):\n",
    "        language = element['aria-label'].rsplit(' ', 1)[0]\n",
    "        percent_usage = float(element['aria-label'].rsplit(' ', 1)[1])\n",
    "        languages_dict[language] = percent_usage\n",
    "    return languages_dict\n",
    "\n"
   ]
  },
  {
   "cell_type": "code",
   "execution_count": 5,
   "metadata": {},
   "outputs": [
    {
     "name": "stdout",
     "output_type": "stream",
     "text": [
      "house_price_prediction : None\n",
      "langtons-ant : None\n",
      "maze_solving : None\n",
      "square-nim-game-analysis : None\n",
      "language-localizer : None\n",
      "ml-kaggle-challenges : None\n",
      "['/m-kosik/house_price_prediction', '/m-kosik/langtons-ant', '/m-kosik/maze_solving', '/m-kosik/square-nim-game-analysis', '/m-kosik/language-localizer', '/m-kosik/ml-kaggle-challenges'] {'house_price_prediction': None, 'langtons-ant': None, 'maze_solving': None, 'square-nim-game-analysis': None, 'language-localizer': None, 'ml-kaggle-challenges': None} 0\n",
      "{'Jupyter Notebook': 100.0}\n",
      "{'Jupyter Notebook': 15400.0}\n",
      "{'Jupyter Notebook': 100.0}\n",
      "{'Jupyter Notebook': 9600.0}\n",
      "{'Jupyter Notebook': 96.8, 'Python': 3.2}\n",
      "{'Jupyter Notebook': 6388.8, 'Python': 211.20000000000002}\n",
      "{'Jupyter Notebook': 97.0, 'Python': 3.0}\n",
      "{'Jupyter Notebook': 1529302.0, 'Python': 47298.0}\n",
      "There are no languages specified for this repository.\n",
      "{'Jupyter Notebook': 97.0, 'Python': 3.0}\n",
      "{'Jupyter Notebook': 4365.0, 'Python': 135.0}\n",
      "{'Jupyter Notebook': 99.8, 'Python': 0.2}\n",
      "{'Jupyter Notebook': 232733.6, 'Python': 466.40000000000003}\n",
      "{'Jupyter Notebook': 1797789.4000000001, 'Python': 48110.6}\n"
     ]
    }
   ],
   "source": [
    "username = 'm-kosik'\n",
    "\n",
    "repos = requests.get('https://github.com/' + username + '?tab=repositories') \n",
    "soup = BeautifulSoup(repos.content,'html5lib')\n",
    "\n",
    "repository_list, number_of_stars, total_stars = find_repositories_and_stars(soup)\n",
    "print(repository_list, number_of_stars, total_stars)\n",
    "\n",
    "        \n",
    "\n",
    "# test idea - total stars equal to the sum number_of_stars.values()"
   ]
  },
  {
   "cell_type": "code",
   "execution_count": 10,
   "metadata": {},
   "outputs": [
    {
     "name": "stdout",
     "output_type": "stream",
     "text": [
      "errr\n"
     ]
    }
   ],
   "source": [
    "username = 'aorvnpeinvjrepin'\n",
    "repos = requests.get('https://github.com/' + username + '?tab=repositories') \n",
    "if not repos.ok:\n",
    "    print('errr')"
   ]
  },
  {
   "cell_type": "code",
   "execution_count": null,
   "metadata": {},
   "outputs": [],
   "source": [
    "\n",
    "    "
   ]
  },
  {
   "cell_type": "code",
   "execution_count": null,
   "metadata": {},
   "outputs": [],
   "source": []
  }
 ],
 "metadata": {
  "interpreter": {
   "hash": "24138b3f572aa2e01ec9c301bcd0e528f9a90943bd7d5c63be76786ae2118c96"
  },
  "kernelspec": {
   "display_name": "Python 3.8.5 64-bit ('base': conda)",
   "language": "python",
   "name": "python3"
  },
  "language_info": {
   "codemirror_mode": {
    "name": "ipython",
    "version": 3
   },
   "file_extension": ".py",
   "mimetype": "text/x-python",
   "name": "python",
   "nbconvert_exporter": "python",
   "pygments_lexer": "ipython3",
   "version": "3.8.5"
  },
  "orig_nbformat": 4
 },
 "nbformat": 4,
 "nbformat_minor": 2
}
