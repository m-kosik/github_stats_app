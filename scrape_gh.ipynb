{
 "cells": [
  {
   "cell_type": "code",
   "execution_count": 61,
   "metadata": {},
   "outputs": [],
   "source": [
    "import requests\n",
    "from bs4 import BeautifulSoup\n",
    "import html5lib\n",
    "import urllib.request, json"
   ]
  },
  {
   "cell_type": "code",
   "execution_count": 62,
   "metadata": {},
   "outputs": [
    {
     "name": "stdout",
     "output_type": "stream",
     "text": [
      "workout-app-django-rest-api : 1\n",
      "workout-app-react-frontend : None\n",
      "python_course_ncu : 1\n",
      "decidenet : 8\n",
      "ergodicity-experiments : 2\n",
      "chess-app-plain-js : None\n",
      "ml-kaggle-challanges : None\n",
      "cog-hack-2021-frontend : None\n",
      "cog-hack-2021-backend : None\n",
      "nilearn : None\n",
      "compneuro-website : None\n",
      "youtube_gravity_series : None\n",
      "sirp_materials : 1\n",
      "reinforcement-learning : None\n",
      "code_snippets : None\n",
      "frontend-exercises : None\n",
      "plotting-outsource : None\n",
      "fmritools : None\n",
      "learning-brain : None\n",
      "opti-measures : None\n",
      "PyNets : None\n"
     ]
    }
   ],
   "source": [
    "username = 'kbonna'\n",
    "\n",
    "repos = requests.get('https://github.com/' + username + '?tab=repositories') \n",
    "soup = BeautifulSoup(repos.content,'html5lib')\n",
    "\n",
    "repository_list = []\n",
    "number_of_stars = {}\n",
    "\n",
    "for repo in soup.find_all(class_='wb-break-all'):\n",
    "    repository_list.append(repo.find('a')['href'])\n",
    "    repo_name = repo.find('a').text.strip(' \\n')\n",
    "    number_of_stars[repo_name] = None\n",
    "\n",
    "for element in soup.find_all('svg', {'aria-label': 'star'}):\n",
    "    repo_name = element.parent['href'].split('/')[-2]\n",
    "    stars = int(element.parent.text.strip('\\n '))\n",
    "    number_of_stars[repo_name] = stars\n",
    "\n",
    "for k,v in number_of_stars.items():\n",
    "    print(f'{k} : {v}')"
   ]
  },
  {
   "cell_type": "code",
   "execution_count": 63,
   "metadata": {},
   "outputs": [
    {
     "name": "stdout",
     "output_type": "stream",
     "text": [
      "196\n",
      "679\n",
      "5115\n",
      "145559\n",
      "1561\n",
      "479\n",
      "2393\n",
      "382\n",
      "6\n",
      "27047\n",
      "4561\n",
      "3\n",
      "362\n",
      "483\n",
      "153086\n",
      "3735\n",
      "3671\n",
      "419\n",
      "54454\n",
      "805\n",
      "54169\n"
     ]
    }
   ],
   "source": [
    "def find_used_languages(soup):\n",
    "    languages_dict = {}\n",
    "    \n",
    "    return languages_dict\n",
    "\n",
    "for repo in repository_list:\n",
    "    try:\n",
    "        with urllib.request.urlopen('https://api.github.com/repos' + repo) as url:\n",
    "            data = json.loads(url.read().decode())\n",
    "            print(data['size'])\n",
    "    except urllib.error.HTTPError as exception:\n",
    "        print(exception)\n",
    "        print('Languages found in all repositories will be printed alphabetically.')\n",
    "        \n",
    "\n",
    "    "
   ]
  },
  {
   "cell_type": "code",
   "execution_count": null,
   "metadata": {},
   "outputs": [],
   "source": []
  }
 ],
 "metadata": {
  "interpreter": {
   "hash": "24138b3f572aa2e01ec9c301bcd0e528f9a90943bd7d5c63be76786ae2118c96"
  },
  "kernelspec": {
   "display_name": "Python 3.8.5 64-bit ('base': conda)",
   "language": "python",
   "name": "python3"
  },
  "language_info": {
   "codemirror_mode": {
    "name": "ipython",
    "version": 3
   },
   "file_extension": ".py",
   "mimetype": "text/x-python",
   "name": "python",
   "nbconvert_exporter": "python",
   "pygments_lexer": "ipython3",
   "version": "3.8.5"
  },
  "orig_nbformat": 4
 },
 "nbformat": 4,
 "nbformat_minor": 2
}
