{
 "cells": [
  {
   "cell_type": "code",
   "execution_count": 74,
   "metadata": {},
   "outputs": [],
   "source": [
    "import requests\n",
    "from bs4 import BeautifulSoup\n",
    "import html5lib\n",
    "import urllib.request, json"
   ]
  },
  {
   "cell_type": "code",
   "execution_count": 81,
   "metadata": {},
   "outputs": [
    {
     "name": "stdout",
     "output_type": "stream",
     "text": [
      "house_price_prediction : None\n",
      "langtons-ant : None\n",
      "maze_solving : None\n",
      "square-nim-game-analysis : None\n",
      "language-localizer : None\n",
      "ml-kaggle-challenges : None\n",
      "Total stars: 0\n"
     ]
    }
   ],
   "source": [
    "username = 'm-kosik'\n",
    "\n",
    "repos = requests.get('https://github.com/' + username + '?tab=repositories') \n",
    "soup = BeautifulSoup(repos.content,'html5lib')\n",
    "\n",
    "repository_list = []\n",
    "number_of_stars = {}\n",
    "total_stars = 0\n",
    "\n",
    "for repo in soup.find_all(class_='wb-break-all'):\n",
    "    repository_list.append(repo.find('a')['href'])\n",
    "    repo_name = repo.find('a').text.strip(' \\n')\n",
    "    number_of_stars[repo_name] = None\n",
    "\n",
    "for element in soup.find_all('svg', {'aria-label': 'star'}):\n",
    "    repo_name = element.parent['href'].split('/')[-2]\n",
    "    stars = int(element.parent.text.strip('\\n '))\n",
    "    number_of_stars[repo_name] = stars\n",
    "    total_stars += stars\n",
    "\n",
    "for k,v in number_of_stars.items():\n",
    "    print(f'{k} : {v}')\n",
    "\n",
    "print('Total stars: ' + str(total_stars))\n",
    "\n",
    "# test idea - total stars equal to the sum number_of_stars.values()"
   ]
  },
  {
   "cell_type": "code",
   "execution_count": 86,
   "metadata": {},
   "outputs": [
    {
     "name": "stdout",
     "output_type": "stream",
     "text": [
      "HTTP Error 403: rate limit exceeded\n",
      "Languages found in all repositories will be printed alphabetically.\n",
      "{'Jupyter Notebook': 100.0}\n",
      "{'Jupyter Notebook': 100000.0}\n",
      "HTTP Error 403: rate limit exceeded\n",
      "Languages found in all repositories will be printed alphabetically.\n",
      "{'Jupyter Notebook': 100.0}\n",
      "{'Jupyter Notebook': 100000.0}\n",
      "HTTP Error 403: rate limit exceeded\n",
      "Languages found in all repositories will be printed alphabetically.\n",
      "{'Jupyter Notebook': 96.8, 'Python': 3.2}\n",
      "{'Jupyter Notebook': 96800.0, 'Python': 3200.0}\n",
      "HTTP Error 403: rate limit exceeded\n",
      "Languages found in all repositories will be printed alphabetically.\n",
      "{'Jupyter Notebook': 97.0, 'Python': 3.0}\n",
      "{'Jupyter Notebook': 97000.0, 'Python': 3000.0}\n",
      "HTTP Error 403: rate limit exceeded\n",
      "Languages found in all repositories will be printed alphabetically.\n",
      "There are no languages specified for this repository.\n",
      "{'Jupyter Notebook': 97.0, 'Python': 3.0}\n",
      "{'Jupyter Notebook': 97000.0, 'Python': 3000.0}\n",
      "HTTP Error 403: rate limit exceeded\n",
      "Languages found in all repositories will be printed alphabetically.\n",
      "{'Jupyter Notebook': 99.8, 'Python': 0.2}\n",
      "{'Jupyter Notebook': 99800.0, 'Python': 200.0}\n"
     ]
    }
   ],
   "source": [
    "def find_used_languages_by_percent(soup):\n",
    "    languages_dict = {}\n",
    "\n",
    "    header = soup.find(lambda elm: elm.name == \"h2\" and \"Languages\" in elm.text)\n",
    "    child = header.find_next_siblings()[0].find('span')\n",
    "    for element in child.find_all('span'):\n",
    "        language = element['aria-label'].rsplit(' ', 1)[0]\n",
    "        percent_usage = float(element['aria-label'].rsplit(' ', 1)[1])\n",
    "        languages_dict[language] = percent_usage\n",
    "    return languages_dict\n",
    "\n",
    "total_language_use_in_bytes = {}\n",
    "for repo in repository_list:\n",
    "    try:\n",
    "        with urllib.request.urlopen('https://api.github.com/repos' + repo) as url:\n",
    "            data = json.loads(url.read().decode())\n",
    "            repo_size = float(data['size'])\n",
    "    except urllib.error.HTTPError as exception:\n",
    "        repo_size = 1000\n",
    "        print(exception)\n",
    "        print('Languages found in all repositories will be printed alphabetically.')\n",
    "\n",
    "    temp_repo = requests.get('https://github.com/' + repo) \n",
    "    soup = BeautifulSoup(temp_repo.content,'html5lib')\n",
    "    try:\n",
    "        languages_in_percent = find_used_languages_by_percent(soup)\n",
    "    except AttributeError:\n",
    "        print('There are no languages specified for this repository.')\n",
    "    \n",
    "    print(languages_in_percent)\n",
    "\n",
    "    languages_in_bytes = {k: v*repo_size for k, v in languages_in_percent.items()}\n",
    "    print(languages_in_bytes)\n",
    "\n",
    "    for language, size in languages_in_bytes.items():\n",
    "        try:\n",
    "            total_language_use_in_bytes[language] += size\n",
    "        except KeyError:\n",
    "            total_language_use_in_bytes[language] = size\n",
    "\n",
    "print(total_language_use_in_bytes)\n",
    "        \n",
    "    "
   ]
  },
  {
   "cell_type": "code",
   "execution_count": 87,
   "metadata": {},
   "outputs": [
    {
     "name": "stdout",
     "output_type": "stream",
     "text": [
      "{'Jupyter Notebook': 590600.0, 'Python': 9400.0}\n"
     ]
    }
   ],
   "source": []
  }
 ],
 "metadata": {
  "interpreter": {
   "hash": "24138b3f572aa2e01ec9c301bcd0e528f9a90943bd7d5c63be76786ae2118c96"
  },
  "kernelspec": {
   "display_name": "Python 3.8.5 64-bit ('base': conda)",
   "language": "python",
   "name": "python3"
  },
  "language_info": {
   "codemirror_mode": {
    "name": "ipython",
    "version": 3
   },
   "file_extension": ".py",
   "mimetype": "text/x-python",
   "name": "python",
   "nbconvert_exporter": "python",
   "pygments_lexer": "ipython3",
   "version": "3.8.5"
  },
  "orig_nbformat": 4
 },
 "nbformat": 4,
 "nbformat_minor": 2
}
