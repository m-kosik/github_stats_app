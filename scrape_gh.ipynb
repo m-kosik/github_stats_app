{
 "cells": [
  {
   "cell_type": "code",
   "execution_count": 34,
   "metadata": {},
   "outputs": [],
   "source": [
    "import requests\n",
    "from bs4 import BeautifulSoup\n",
    "import html5lib\n",
    "import urllib.request, json\n",
    "from collections import OrderedDict"
   ]
  },
  {
   "cell_type": "code",
   "execution_count": 35,
   "metadata": {},
   "outputs": [],
   "source": [
    "def find_repositories_and_stars(soup):\n",
    "    \n",
    "    repository_list = []\n",
    "    number_of_stars = OrderedDict()\n",
    "    \n",
    "    for repo in soup.find_all(class_='wb-break-all'):\n",
    "        repository_list.append(repo.find('a')['href'])\n",
    "        repo_name = repo.find('a').text.strip(' \\n')\n",
    "        number_of_stars[repo_name] = 0\n",
    "\n",
    "    total_stars = 0\n",
    "    for element in soup.find_all('svg', {'aria-label': 'star'}):\n",
    "        repo_name = element.parent['href'].split('/')[-2]\n",
    "        stars = int(element.parent.text.strip('\\n '))\n",
    "        number_of_stars[repo_name] = stars\n",
    "        total_stars += stars\n",
    "\n",
    "    return repository_list, number_of_stars, total_stars\n",
    "\n",
    "\n",
    "def list_languages(repository_list):  \n",
    "\n",
    "    is_limit = False\n",
    "    total_language_use_in_bytes = OrderedDict()\n",
    "\n",
    "    for repo in repository_list:\n",
    "        try:\n",
    "            with urllib.request.urlopen('https://api.github.com/repos' + repo) as url:\n",
    "                data = json.loads(url.read().decode())\n",
    "                repo_size = float(data['size'])\n",
    "        except urllib.error.HTTPError as exception:\n",
    "            is_limit = True\n",
    "            repo_size = 0\n",
    "            print(exception)\n",
    "            print('Languages found in all repositories will be printed alphabetically.')\n",
    "\n",
    "        temp_repo = requests.get('https://github.com/' + repo) \n",
    "        soup = BeautifulSoup(temp_repo.content,'html5lib')\n",
    "        try:\n",
    "            languages_in_percent = find_used_languages_by_percent(soup)\n",
    "        except AttributeError:\n",
    "            print('There are no languages specified for repository ' + repo)\n",
    "\n",
    "        languages_in_bytes = {k: v*repo_size for k, v in languages_in_percent.items()}\n",
    "\n",
    "        for language, size in languages_in_bytes.items():\n",
    "            try:\n",
    "                total_language_use_in_bytes[language] += size\n",
    "            except KeyError:\n",
    "                total_language_use_in_bytes[language] = size\n",
    "    \n",
    "    if is_limit:\n",
    "        \n",
    "        print('alphabetical order')\n",
    "    else:\n",
    "        return total_language_use_in_bytes\n",
    "    \n",
    "\n",
    "def find_used_languages_by_percent(soup):\n",
    "    languages_dict = OrderedDict()\n",
    "\n",
    "    header = soup.find(lambda elm: elm.name == \"h2\" and \"Languages\" in elm.text)\n",
    "    child = header.find_next_siblings()[0].find('span')\n",
    "    for element in child.find_all('span'):\n",
    "        language = element['aria-label'].rsplit(' ', 1)[0]\n",
    "        percent_usage = float(element['aria-label'].rsplit(' ', 1)[1])\n",
    "        languages_dict[language] = percent_usage\n",
    "    return languages_dict\n",
    "\n"
   ]
  },
  {
   "cell_type": "code",
   "execution_count": 36,
   "metadata": {},
   "outputs": [
    {
     "name": "stdout",
     "output_type": "stream",
     "text": [
      "['/m-kosik/house_price_prediction', '/m-kosik/langtons-ant', '/m-kosik/maze_solving', '/m-kosik/square-nim-game-analysis', '/m-kosik/language-localizer', '/m-kosik/ml-kaggle-challenges'] OrderedDict([('house_price_prediction', 0), ('langtons-ant', 0), ('maze_solving', 0), ('square-nim-game-analysis', 0), ('language-localizer', 0), ('ml-kaggle-challenges', 0)]) 0\n",
      "There are no languages specified for repository /m-kosik/language-localizer\n",
      "OrderedDict([('Jupyter Notebook', 1797789.4000000001), ('Python', 48110.6)])\n"
     ]
    }
   ],
   "source": [
    "username = 'm-kosik'\n",
    "\n",
    "repos = requests.get('https://github.com/' + username + '?tab=repositories') \n",
    "soup = BeautifulSoup(repos.content,'html5lib')\n",
    "\n",
    "repository_list, number_of_stars, total_stars = find_repositories_and_stars(soup)\n",
    "print(repository_list, number_of_stars, total_stars)\n",
    "\n",
    "total = list_languages(repository_list)\n",
    "print(total)\n",
    "\n",
    "    \n",
    "    \n",
    "# test idea - total stars equal to the sum number_of_stars.values()"
   ]
  },
  {
   "cell_type": "code",
   "execution_count": 37,
   "metadata": {},
   "outputs": [
    {
     "name": "stdout",
     "output_type": "stream",
     "text": [
      "errr\n"
     ]
    }
   ],
   "source": [
    "username = 'aorvnpeinvjrepin'\n",
    "repos = requests.get('https://github.com/' + username + '?tab=repositories') \n",
    "if not repos.ok:\n",
    "    print('errr')"
   ]
  },
  {
   "cell_type": "code",
   "execution_count": null,
   "metadata": {},
   "outputs": [],
   "source": []
  },
  {
   "cell_type": "code",
   "execution_count": null,
   "metadata": {},
   "outputs": [],
   "source": []
  }
 ],
 "metadata": {
  "interpreter": {
   "hash": "24138b3f572aa2e01ec9c301bcd0e528f9a90943bd7d5c63be76786ae2118c96"
  },
  "kernelspec": {
   "display_name": "Python 3.8.5 64-bit ('base': conda)",
   "language": "python",
   "name": "python3"
  },
  "language_info": {
   "codemirror_mode": {
    "name": "ipython",
    "version": 3
   },
   "file_extension": ".py",
   "mimetype": "text/x-python",
   "name": "python",
   "nbconvert_exporter": "python",
   "pygments_lexer": "ipython3",
   "version": "3.8.5"
  },
  "orig_nbformat": 4
 },
 "nbformat": 4,
 "nbformat_minor": 2
}
